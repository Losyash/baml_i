{
 "cells": [
  {
   "cell_type": "markdown",
   "metadata": {},
   "source": [
    "### 0. Импорт библиотек"
   ]
  },
  {
   "cell_type": "code",
   "execution_count": 1032,
   "metadata": {},
   "outputs": [],
   "source": [
    "import pandas as pd\n",
    "import matplotlib.pyplot as plt\n",
    "import numpy as np\n",
    "import seaborn as sns\n",
    "from statsmodels.stats.proportion import proportion_confint\n",
    "from scipy.stats import (\n",
    "  chi2_contingency,\n",
    "  ks_2samp,\n",
    "  mannwhitneyu,\n",
    "  norm\n",
    ")\n",
    "\n",
    "pd.set_option('future.no_silent_downcasting', True)"
   ]
  },
  {
   "cell_type": "markdown",
   "metadata": {},
   "source": [
    "### 1. Анализ структуры данных и их предобработка"
   ]
  },
  {
   "cell_type": "markdown",
   "metadata": {},
   "source": [
    "#### 1.1. Создание датафрейма и загрузка данных из файла"
   ]
  },
  {
   "cell_type": "code",
   "execution_count": 1033,
   "metadata": {},
   "outputs": [
    {
     "data": {
      "text/html": [
       "<div>\n",
       "<style scoped>\n",
       "    .dataframe tbody tr th:only-of-type {\n",
       "        vertical-align: middle;\n",
       "    }\n",
       "\n",
       "    .dataframe tbody tr th {\n",
       "        vertical-align: top;\n",
       "    }\n",
       "\n",
       "    .dataframe thead th {\n",
       "        text-align: right;\n",
       "    }\n",
       "</style>\n",
       "<table border=\"1\" class=\"dataframe\">\n",
       "  <thead>\n",
       "    <tr style=\"text-align: right;\">\n",
       "      <th></th>\n",
       "      <th>user id</th>\n",
       "      <th>test group</th>\n",
       "      <th>converted</th>\n",
       "      <th>total ads</th>\n",
       "      <th>most ads day</th>\n",
       "      <th>most ads hour</th>\n",
       "    </tr>\n",
       "  </thead>\n",
       "  <tbody>\n",
       "    <tr>\n",
       "      <th>0</th>\n",
       "      <td>1069124</td>\n",
       "      <td>ad</td>\n",
       "      <td>False</td>\n",
       "      <td>130</td>\n",
       "      <td>Monday</td>\n",
       "      <td>20</td>\n",
       "    </tr>\n",
       "    <tr>\n",
       "      <th>1</th>\n",
       "      <td>1119715</td>\n",
       "      <td>ad</td>\n",
       "      <td>False</td>\n",
       "      <td>93</td>\n",
       "      <td>Tuesday</td>\n",
       "      <td>22</td>\n",
       "    </tr>\n",
       "    <tr>\n",
       "      <th>2</th>\n",
       "      <td>1144181</td>\n",
       "      <td>ad</td>\n",
       "      <td>False</td>\n",
       "      <td>21</td>\n",
       "      <td>Tuesday</td>\n",
       "      <td>18</td>\n",
       "    </tr>\n",
       "    <tr>\n",
       "      <th>3</th>\n",
       "      <td>1435133</td>\n",
       "      <td>ad</td>\n",
       "      <td>False</td>\n",
       "      <td>355</td>\n",
       "      <td>Tuesday</td>\n",
       "      <td>10</td>\n",
       "    </tr>\n",
       "    <tr>\n",
       "      <th>4</th>\n",
       "      <td>1015700</td>\n",
       "      <td>ad</td>\n",
       "      <td>False</td>\n",
       "      <td>276</td>\n",
       "      <td>Friday</td>\n",
       "      <td>14</td>\n",
       "    </tr>\n",
       "  </tbody>\n",
       "</table>\n",
       "</div>"
      ],
      "text/plain": [
       "   user id test group  converted  total ads most ads day  most ads hour\n",
       "0  1069124         ad      False        130       Monday             20\n",
       "1  1119715         ad      False         93      Tuesday             22\n",
       "2  1144181         ad      False         21      Tuesday             18\n",
       "3  1435133         ad      False        355      Tuesday             10\n",
       "4  1015700         ad      False        276       Friday             14"
      ]
     },
     "execution_count": 1033,
     "metadata": {},
     "output_type": "execute_result"
    }
   ],
   "source": [
    "df = pd.read_csv('data/marketing.csv', index_col=0)\n",
    "df.head()"
   ]
  },
  {
   "cell_type": "code",
   "execution_count": 1034,
   "metadata": {},
   "outputs": [
    {
     "name": "stdout",
     "output_type": "stream",
     "text": [
      "В таблице 588101 запись\n"
     ]
    }
   ],
   "source": [
    "print(f'В таблице {len(df)} запись')"
   ]
  },
  {
   "cell_type": "markdown",
   "metadata": {},
   "source": [
    "Таблица содержит семь столбцов:\n",
    "- ```user id``` - идентификатор пользователя (уникальный);\n",
    "- ```test group``` - признак показа рекламы или объявления (если \"ad\", то человек видел рекламу, если \"psa\", то он видел только объявление государственной службы);\n",
    "- ```converted``` - признак покупки продукта (если человек купил продукт, то True, иначе False);\n",
    "- ```total ads``` - количество рекламы, увиденной человеком;\n",
    "- ```most ads day``` - день, в который человек увидел наибольшее количество рекламы;\n",
    "- ```most ads hour``` - час дня, в который человек увидел наибольшее количество рекламы.\n",
    "\n",
    "В таблице ```588101``` запись."
   ]
  },
  {
   "cell_type": "markdown",
   "metadata": {},
   "source": [
    "#### 1.2. Получение сведений о структуре датасета"
   ]
  },
  {
   "cell_type": "code",
   "execution_count": 1035,
   "metadata": {},
   "outputs": [
    {
     "name": "stdout",
     "output_type": "stream",
     "text": [
      "<class 'pandas.core.frame.DataFrame'>\n",
      "Index: 588101 entries, 0 to 588100\n",
      "Data columns (total 6 columns):\n",
      " #   Column         Non-Null Count   Dtype \n",
      "---  ------         --------------   ----- \n",
      " 0   user id        588101 non-null  int64 \n",
      " 1   test group     588101 non-null  object\n",
      " 2   converted      588101 non-null  bool  \n",
      " 3   total ads      588101 non-null  int64 \n",
      " 4   most ads day   588101 non-null  object\n",
      " 5   most ads hour  588101 non-null  int64 \n",
      "dtypes: bool(1), int64(3), object(2)\n",
      "memory usage: 27.5+ MB\n"
     ]
    }
   ],
   "source": [
    "df.info()"
   ]
  },
  {
   "cell_type": "markdown",
   "metadata": {},
   "source": [
    "#### 1.3. Переименование столбцов"
   ]
  },
  {
   "cell_type": "code",
   "execution_count": 1036,
   "metadata": {},
   "outputs": [
    {
     "data": {
      "text/html": [
       "<div>\n",
       "<style scoped>\n",
       "    .dataframe tbody tr th:only-of-type {\n",
       "        vertical-align: middle;\n",
       "    }\n",
       "\n",
       "    .dataframe tbody tr th {\n",
       "        vertical-align: top;\n",
       "    }\n",
       "\n",
       "    .dataframe thead th {\n",
       "        text-align: right;\n",
       "    }\n",
       "</style>\n",
       "<table border=\"1\" class=\"dataframe\">\n",
       "  <thead>\n",
       "    <tr style=\"text-align: right;\">\n",
       "      <th></th>\n",
       "      <th>user_id</th>\n",
       "      <th>test_group</th>\n",
       "      <th>converted</th>\n",
       "      <th>total_ads</th>\n",
       "      <th>most_ads_day</th>\n",
       "      <th>most_ads_hour</th>\n",
       "    </tr>\n",
       "  </thead>\n",
       "  <tbody>\n",
       "    <tr>\n",
       "      <th>0</th>\n",
       "      <td>1069124</td>\n",
       "      <td>ad</td>\n",
       "      <td>False</td>\n",
       "      <td>130</td>\n",
       "      <td>Monday</td>\n",
       "      <td>20</td>\n",
       "    </tr>\n",
       "    <tr>\n",
       "      <th>1</th>\n",
       "      <td>1119715</td>\n",
       "      <td>ad</td>\n",
       "      <td>False</td>\n",
       "      <td>93</td>\n",
       "      <td>Tuesday</td>\n",
       "      <td>22</td>\n",
       "    </tr>\n",
       "    <tr>\n",
       "      <th>2</th>\n",
       "      <td>1144181</td>\n",
       "      <td>ad</td>\n",
       "      <td>False</td>\n",
       "      <td>21</td>\n",
       "      <td>Tuesday</td>\n",
       "      <td>18</td>\n",
       "    </tr>\n",
       "    <tr>\n",
       "      <th>3</th>\n",
       "      <td>1435133</td>\n",
       "      <td>ad</td>\n",
       "      <td>False</td>\n",
       "      <td>355</td>\n",
       "      <td>Tuesday</td>\n",
       "      <td>10</td>\n",
       "    </tr>\n",
       "    <tr>\n",
       "      <th>4</th>\n",
       "      <td>1015700</td>\n",
       "      <td>ad</td>\n",
       "      <td>False</td>\n",
       "      <td>276</td>\n",
       "      <td>Friday</td>\n",
       "      <td>14</td>\n",
       "    </tr>\n",
       "  </tbody>\n",
       "</table>\n",
       "</div>"
      ],
      "text/plain": [
       "   user_id test_group  converted  total_ads most_ads_day  most_ads_hour\n",
       "0  1069124         ad      False        130       Monday             20\n",
       "1  1119715         ad      False         93      Tuesday             22\n",
       "2  1144181         ad      False         21      Tuesday             18\n",
       "3  1435133         ad      False        355      Tuesday             10\n",
       "4  1015700         ad      False        276       Friday             14"
      ]
     },
     "execution_count": 1036,
     "metadata": {},
     "output_type": "execute_result"
    }
   ],
   "source": [
    "df = df.rename(columns={\n",
    "  'user id': 'user_id',\n",
    "  'test group': 'test_group',\n",
    "  'total ads': 'total_ads',\n",
    "  'most ads day': 'most_ads_day',\n",
    "  'most ads hour': 'most_ads_hour'\n",
    "})\n",
    "\n",
    "df.head()"
   ]
  },
  {
   "cell_type": "markdown",
   "metadata": {},
   "source": [
    "#### 1.4. Преобразование строкового типа столбца ```most_ads_day``` к числовому"
   ]
  },
  {
   "cell_type": "code",
   "execution_count": 1037,
   "metadata": {},
   "outputs": [],
   "source": [
    "weekdays_nuumbers = {\n",
    "  'Monday': 1,\n",
    "  'Tuesday': 2,\n",
    "  'Wednesday': 3,\n",
    "  'Thursday': 4,\n",
    "  'Friday': 5,\n",
    "  'Saturday': 6,\n",
    "  'Sunday' : 7\n",
    "}\n",
    "\n",
    "df['most_ads_day'] = df['most_ads_day'].replace(weekdays_nuumbers).astype(int)"
   ]
  },
  {
   "cell_type": "markdown",
   "metadata": {},
   "source": [
    "#### 1.5. Преобразование объектного типа столбца ```test_group``` к категориальному"
   ]
  },
  {
   "cell_type": "code",
   "execution_count": 1038,
   "metadata": {},
   "outputs": [],
   "source": [
    "df['test_group'] = df['test_group'].astype('category')"
   ]
  },
  {
   "cell_type": "code",
   "execution_count": 1039,
   "metadata": {},
   "outputs": [
    {
     "data": {
      "text/html": [
       "<div>\n",
       "<style scoped>\n",
       "    .dataframe tbody tr th:only-of-type {\n",
       "        vertical-align: middle;\n",
       "    }\n",
       "\n",
       "    .dataframe tbody tr th {\n",
       "        vertical-align: top;\n",
       "    }\n",
       "\n",
       "    .dataframe thead th {\n",
       "        text-align: right;\n",
       "    }\n",
       "</style>\n",
       "<table border=\"1\" class=\"dataframe\">\n",
       "  <thead>\n",
       "    <tr style=\"text-align: right;\">\n",
       "      <th></th>\n",
       "      <th>user_id</th>\n",
       "      <th>test_group</th>\n",
       "      <th>converted</th>\n",
       "      <th>total_ads</th>\n",
       "      <th>most_ads_day</th>\n",
       "      <th>most_ads_hour</th>\n",
       "    </tr>\n",
       "  </thead>\n",
       "  <tbody>\n",
       "    <tr>\n",
       "      <th>0</th>\n",
       "      <td>1069124</td>\n",
       "      <td>ad</td>\n",
       "      <td>False</td>\n",
       "      <td>130</td>\n",
       "      <td>1</td>\n",
       "      <td>20</td>\n",
       "    </tr>\n",
       "    <tr>\n",
       "      <th>1</th>\n",
       "      <td>1119715</td>\n",
       "      <td>ad</td>\n",
       "      <td>False</td>\n",
       "      <td>93</td>\n",
       "      <td>2</td>\n",
       "      <td>22</td>\n",
       "    </tr>\n",
       "    <tr>\n",
       "      <th>2</th>\n",
       "      <td>1144181</td>\n",
       "      <td>ad</td>\n",
       "      <td>False</td>\n",
       "      <td>21</td>\n",
       "      <td>2</td>\n",
       "      <td>18</td>\n",
       "    </tr>\n",
       "    <tr>\n",
       "      <th>3</th>\n",
       "      <td>1435133</td>\n",
       "      <td>ad</td>\n",
       "      <td>False</td>\n",
       "      <td>355</td>\n",
       "      <td>2</td>\n",
       "      <td>10</td>\n",
       "    </tr>\n",
       "    <tr>\n",
       "      <th>4</th>\n",
       "      <td>1015700</td>\n",
       "      <td>ad</td>\n",
       "      <td>False</td>\n",
       "      <td>276</td>\n",
       "      <td>5</td>\n",
       "      <td>14</td>\n",
       "    </tr>\n",
       "  </tbody>\n",
       "</table>\n",
       "</div>"
      ],
      "text/plain": [
       "   user_id test_group  converted  total_ads  most_ads_day  most_ads_hour\n",
       "0  1069124         ad      False        130             1             20\n",
       "1  1119715         ad      False         93             2             22\n",
       "2  1144181         ad      False         21             2             18\n",
       "3  1435133         ad      False        355             2             10\n",
       "4  1015700         ad      False        276             5             14"
      ]
     },
     "execution_count": 1039,
     "metadata": {},
     "output_type": "execute_result"
    }
   ],
   "source": [
    "df.head()"
   ]
  },
  {
   "cell_type": "code",
   "execution_count": 1040,
   "metadata": {},
   "outputs": [
    {
     "name": "stdout",
     "output_type": "stream",
     "text": [
      "<class 'pandas.core.frame.DataFrame'>\n",
      "Index: 588101 entries, 0 to 588100\n",
      "Data columns (total 6 columns):\n",
      " #   Column         Non-Null Count   Dtype   \n",
      "---  ------         --------------   -----   \n",
      " 0   user_id        588101 non-null  int64   \n",
      " 1   test_group     588101 non-null  category\n",
      " 2   converted      588101 non-null  bool    \n",
      " 3   total_ads      588101 non-null  int64   \n",
      " 4   most_ads_day   588101 non-null  int64   \n",
      " 5   most_ads_hour  588101 non-null  int64   \n",
      "dtypes: bool(1), category(1), int64(4)\n",
      "memory usage: 23.6 MB\n"
     ]
    }
   ],
   "source": [
    "df.info()"
   ]
  },
  {
   "cell_type": "markdown",
   "metadata": {},
   "source": [
    "#### 1.6. Проверка данных на наличие пропусков"
   ]
  },
  {
   "cell_type": "code",
   "execution_count": 1041,
   "metadata": {},
   "outputs": [
    {
     "data": {
      "text/plain": [
       "user_id          0\n",
       "test_group       0\n",
       "converted        0\n",
       "total_ads        0\n",
       "most_ads_day     0\n",
       "most_ads_hour    0\n",
       "dtype: int64"
      ]
     },
     "execution_count": 1041,
     "metadata": {},
     "output_type": "execute_result"
    }
   ],
   "source": [
    "df.isnull().sum() + df.eq('').sum()"
   ]
  },
  {
   "cell_type": "markdown",
   "metadata": {},
   "source": [
    "#### 1.4. Проверка наличия пользователей, попавших в обе группы в процессе A/B-теста"
   ]
  },
  {
   "cell_type": "code",
   "execution_count": 1042,
   "metadata": {},
   "outputs": [
    {
     "name": "stdout",
     "output_type": "stream",
     "text": [
      "Количество уникальных пользователей 588101\n"
     ]
    }
   ],
   "source": [
    "df_unique_users = df['user_id'].unique()\n",
    "print(f'Количество уникальных пользователей {len(df_unique_users)}')"
   ]
  },
  {
   "cell_type": "code",
   "execution_count": 1043,
   "metadata": {},
   "outputs": [
    {
     "name": "stdout",
     "output_type": "stream",
     "text": [
      "Пользователи разделены на группы ['ad', 'psa']\n",
      "Categories (2, object): ['ad', 'psa']\n"
     ]
    }
   ],
   "source": [
    "df_unique_groups = df['test_group'].unique()\n",
    "print(f'Пользователи разделены на группы {df_unique_groups}')"
   ]
  },
  {
   "cell_type": "code",
   "execution_count": 1044,
   "metadata": {},
   "outputs": [],
   "source": [
    "# Второе решение проверки вхождения пользователей в несколько групп через группировку\n",
    "user_group_counts = df.groupby('user_id')['test_group'].nunique()\n",
    "duplicate_users = user_group_counts[user_group_counts > 1].index"
   ]
  },
  {
   "cell_type": "markdown",
   "metadata": {},
   "source": [
    "#### 1.5. Выводы к предварительному анализу данных\n",
    "- в датасете отсутствуют пропуски данных;\n",
    "- так как столбец ```user_id``` содержит ```588101``` уникальных записей, что совпадает с общим числом записей, а столбец ```test_group``` содержит только два возможных значения ```ad``` и ```psa``` можно сказать, что в датасете отсутствуют пользователи, попавшие в несколько тестовых групп;"
   ]
  },
  {
   "cell_type": "markdown",
   "metadata": {},
   "source": [
    "### 2. Первичный анализ результатов A/B-тестирования"
   ]
  },
  {
   "cell_type": "markdown",
   "metadata": {},
   "source": [
    "#### 2.1. Рассчет количества посещений сайта, суммарного количество совершённых покупок и среднего количества показов рекламы для каждой группы"
   ]
  },
  {
   "cell_type": "code",
   "execution_count": 1045,
   "metadata": {},
   "outputs": [
    {
     "data": {
      "text/html": [
       "<div>\n",
       "<style scoped>\n",
       "    .dataframe tbody tr th:only-of-type {\n",
       "        vertical-align: middle;\n",
       "    }\n",
       "\n",
       "    .dataframe tbody tr th {\n",
       "        vertical-align: top;\n",
       "    }\n",
       "\n",
       "    .dataframe thead th {\n",
       "        text-align: right;\n",
       "    }\n",
       "</style>\n",
       "<table border=\"1\" class=\"dataframe\">\n",
       "  <thead>\n",
       "    <tr style=\"text-align: right;\">\n",
       "      <th></th>\n",
       "      <th>users_count</th>\n",
       "      <th>buyers_count</th>\n",
       "      <th>mean_ads</th>\n",
       "    </tr>\n",
       "    <tr>\n",
       "      <th>test_group</th>\n",
       "      <th></th>\n",
       "      <th></th>\n",
       "      <th></th>\n",
       "    </tr>\n",
       "  </thead>\n",
       "  <tbody>\n",
       "    <tr>\n",
       "      <th>ad</th>\n",
       "      <td>564577</td>\n",
       "      <td>14423</td>\n",
       "      <td>24.823365</td>\n",
       "    </tr>\n",
       "    <tr>\n",
       "      <th>psa</th>\n",
       "      <td>23524</td>\n",
       "      <td>420</td>\n",
       "      <td>24.761138</td>\n",
       "    </tr>\n",
       "  </tbody>\n",
       "</table>\n",
       "</div>"
      ],
      "text/plain": [
       "            users_count  buyers_count   mean_ads\n",
       "test_group                                      \n",
       "ad               564577         14423  24.823365\n",
       "psa               23524           420  24.761138"
      ]
     },
     "execution_count": 1045,
     "metadata": {},
     "output_type": "execute_result"
    }
   ],
   "source": [
    "df_site_groups = df.groupby([ 'test_group' ], observed=True) \\\n",
    "  .agg({ 'user_id':'count', 'converted':'sum', 'total_ads':'mean' }) \\\n",
    "  .rename(columns={ 'user_id': 'users_count', 'converted': 'buyers_count', 'total_ads': 'mean_ads' })\n",
    "\n",
    "df_site_groups"
   ]
  },
  {
   "cell_type": "markdown",
   "metadata": {},
   "source": [
    "#### 2.2. Рассчет конверсий"
   ]
  },
  {
   "cell_type": "code",
   "execution_count": 1046,
   "metadata": {},
   "outputs": [
    {
     "data": {
      "text/html": [
       "<div>\n",
       "<style scoped>\n",
       "    .dataframe tbody tr th:only-of-type {\n",
       "        vertical-align: middle;\n",
       "    }\n",
       "\n",
       "    .dataframe tbody tr th {\n",
       "        vertical-align: top;\n",
       "    }\n",
       "\n",
       "    .dataframe thead th {\n",
       "        text-align: right;\n",
       "    }\n",
       "</style>\n",
       "<table border=\"1\" class=\"dataframe\">\n",
       "  <thead>\n",
       "    <tr style=\"text-align: right;\">\n",
       "      <th></th>\n",
       "      <th>users_count</th>\n",
       "      <th>buyers_count</th>\n",
       "      <th>mean_ads</th>\n",
       "      <th>conversion</th>\n",
       "    </tr>\n",
       "    <tr>\n",
       "      <th>test_group</th>\n",
       "      <th></th>\n",
       "      <th></th>\n",
       "      <th></th>\n",
       "      <th></th>\n",
       "    </tr>\n",
       "  </thead>\n",
       "  <tbody>\n",
       "    <tr>\n",
       "      <th>ad</th>\n",
       "      <td>564577</td>\n",
       "      <td>14423</td>\n",
       "      <td>24.823365</td>\n",
       "      <td>0.025547</td>\n",
       "    </tr>\n",
       "    <tr>\n",
       "      <th>psa</th>\n",
       "      <td>23524</td>\n",
       "      <td>420</td>\n",
       "      <td>24.761138</td>\n",
       "      <td>0.017854</td>\n",
       "    </tr>\n",
       "  </tbody>\n",
       "</table>\n",
       "</div>"
      ],
      "text/plain": [
       "            users_count  buyers_count   mean_ads  conversion\n",
       "test_group                                                  \n",
       "ad               564577         14423  24.823365    0.025547\n",
       "psa               23524           420  24.761138    0.017854"
      ]
     },
     "execution_count": 1046,
     "metadata": {},
     "output_type": "execute_result"
    }
   ],
   "source": [
    "# Рассчитаем процент совершивших покупку в каждой группе и добавим в новый столбец\n",
    "df_site_groups['conversion'] = df_site_groups['buyers_count'] / df_site_groups['users_count']\n",
    "df_site_groups"
   ]
  },
  {
   "cell_type": "markdown",
   "metadata": {},
   "source": [
    "#### 2.3. Выводы к первичному анализу результатов A/B-тестирования\n",
    "- выборки являются несбалансированными, так как количество посетителей, которым показывали рекламу (```564577``` человек) в ```24``` раза превышает тех, кто видел объявление государственной службы (```23524``` человека);\n",
    "- среднее количество показов рекламы почти одинаково в обеих группах и ссоставляет примерно ```24``` показа, что является логичным, так как в данном маркетинговом исседовании проверялось не количество показов рекламы, а ее содержание, то есть для пользователя ```отличме заключалось в содержании: рекламное объявление или объявление государственной службы```;\n",
    "- конверсия составляет ```2,55%``` в группе, где пользователи видели рекламу, и ```1,78%``` для группы, которой показывали объявление государственной службы, что при первичном анализе указывает на большую эффективность показа рекламного объявления, чем объявления государственной службы;"
   ]
  },
  {
   "cell_type": "markdown",
   "metadata": {},
   "source": [
    "### 3.  Статистический анализ результатов A/B-тестирования"
   ]
  },
  {
   "cell_type": "markdown",
   "metadata": {},
   "source": [
    "#### 3.1. Проверка данных на нормальность"
   ]
  },
  {
   "cell_type": "code",
   "execution_count": 1052,
   "metadata": {},
   "outputs": [
    {
     "data": {
      "image/png": "[encoded data removed]",
      "text/plain": [
       "<Figure size 1000x500 with 2 Axes>"
      ]
     },
     "metadata": {},
     "output_type": "display_data"
    }
   ],
   "source": [
    "df_ad_group = df[df['test_group'] == 'ad']['total_ads']\n",
    "df_psa_group = df[df['test_group'] == 'psa']['total_ads']\n",
    "\n",
    "plt.figure(figsize=(10, 5))\n",
    "\n",
    "ax1 = plt.subplot(1, 2, 1)\n",
    "sns.histplot(df_ad_group, kde=True, bins=50, ax=ax1, color='orange')\n",
    "ax1.set_title('Гистограмма группы «ad»')\n",
    "ax1.set_xlabel('Количество показов рекламы')\n",
    "ax1.set_ylabel('Количество пользователей')\n",
    "\n",
    "\n",
    "ax2 = plt.subplot(1, 2, 2)\n",
    "sns.histplot(df_psa_group, kde=True, bins=50, ax=ax2, color='green')\n",
    "ax2.set_title('Гистограмма группы «psa»')\n",
    "ax2.set_xlabel('Количество показов рекламы')\n",
    "ax2.set_ylabel('Количество пользователей')\n",
    "\n",
    "plt.tight_layout()\n",
    "plt.show()"
   ]
  },
  {
   "cell_type": "markdown",
   "metadata": {},
   "source": [
    "#### 3.2. Тест Колмогорова-Смирнова"
   ]
  },
  {
   "cell_type": "code",
   "execution_count": 1048,
   "metadata": {},
   "outputs": [
    {
     "name": "stdout",
     "output_type": "stream",
     "text": [
      "p-value=2.342650880233848e-31\n"
     ]
    }
   ],
   "source": [
    "test_value = ks_2samp(df_ad_group, df_psa_group)\n",
    "print(f\"p-value={test_value.pvalue}\")"
   ]
  },
  {
   "cell_type": "markdown",
   "metadata": {},
   "source": [
    "#### 3.3. Формулировка статистических гипотез и выбор статистических тестов для их проверки"
   ]
  },
  {
   "cell_type": "markdown",
   "metadata": {},
   "source": [
    "##### 3.3.1. Критерий хи-квадрат для конверсии\n",
    "- нулевая гипотеза (H0) - ```конверсии``` для группы «ad», которой показывали рекламу и группы «psa», видевшей объявления государственной службы, ```не различаются```;\n",
    "- альтернативная гипотеза (H1) - ```конверсии``` для групп «ad» и «psa» ```различаются```."
   ]
  },
  {
   "cell_type": "markdown",
   "metadata": {},
   "source": [
    "##### 3.3.2. U-тест Манна-Уитни для среднего количества показов рекламы\n",
    "- нулевая гипотеза (H0) - среднее количество показов рекламы для группы «ad», которой показывали рекламу и группы «psa», видевшей объявления государственной службы,  одинаково;\n",
    "- альтернативная гипотеза (H1) - среднее количество рекламы между группами «ad» и «psa» различается."
   ]
  },
  {
   "cell_type": "markdown",
   "metadata": {},
   "source": [
    "##### 3.3.3. Построение таблицы сопряженности для теста ```хи-квадрат```"
   ]
  },
  {
   "cell_type": "code",
   "execution_count": 1049,
   "metadata": {},
   "outputs": [
    {
     "name": "stdout",
     "output_type": "stream",
     "text": [
      "Критерий хи-квадрат: chi2=54.005823883685245, p-value=1.9989623063390075e-13\n"
     ]
    }
   ],
   "source": [
    "crosstab = pd.crosstab(df['test_group'], df['converted'])\n",
    "chi2, p_value, _, _ = chi2_contingency(crosstab)\n",
    "\n",
    "print(f'Критерий хи-квадрат: chi2={chi2}, p-value={p_value}')"
   ]
  },
  {
   "cell_type": "markdown",
   "metadata": {},
   "source": [
    "##### 3.3.4. Вычисление *U*-критерия Манна-Уитни для среднего количества показов рекламы"
   ]
  },
  {
   "cell_type": "code",
   "execution_count": 1050,
   "metadata": {},
   "outputs": [
    {
     "name": "stdout",
     "output_type": "stream",
     "text": [
      "U-критерий Манна-Уитни: p-value=4.6909108547205694e-11\n"
     ]
    }
   ],
   "source": [
    "u_stat, p_value = mannwhitneyu(df_ad_group, df_psa_group)\n",
    "print(f'U-критерий Манна-Уитни: p-value={p_value}')"
   ]
  },
  {
   "cell_type": "markdown",
   "metadata": {},
   "source": [
    "#### 3.4. Выводы к первичному анализу результатов A/B-тестирования\n",
    "\n",
    "- по гисторгаммам распределение можно сказать, что данные распределены не нормальные, а имеют логарифмически-нормальное распределение;\n",
    "- тест Колмогорова-Смирнова ```p-value < 0,05``` также показывает, что группы имеют различные распределения и не не являются нормальными;\n",
    "- тест хи-квадрат ```p-value << 0,05``` позволяет отвергуть нулевую гипотезу о том, что между группами нет различий и, соответсвенно, принять альтернативная гипотезу, что что различие в конверсиях между группами статистически значимо;\n",
    "- значение u-критерия Манна-Уитни ```p-value < 0,05``` показывает, что различия между группами статистически значимы."
   ]
  },
  {
   "cell_type": "markdown",
   "metadata": {},
   "source": [
    "### 4. Доверительные интервалы"
   ]
  },
  {
   "cell_type": "markdown",
   "metadata": {},
   "source": [
    "#### 4.1. Построение доверительных интервалов"
   ]
  },
  {
   "cell_type": "code",
   "execution_count": 1051,
   "metadata": {},
   "outputs": [
    {
     "name": "stdout",
     "output_type": "stream",
     "text": [
      "Доверительные интервалы для конверсии в группе «ad»: (0.0251349995427061, 0.025958119730661394)\n",
      "Доверительные интервалы для конверсии в группе «psa»: (0.016161914715211324, 0.019546298173753137)\n",
      "\n",
      "Доверительный интервал для разницы конверсий: [0.00595090043017032, 0.009434005954232714]\n",
      "\n",
      "Доверительный интервал для среднего количества рекламы группе «ad»: [24.70924317886855, 24.937487027994283]\n",
      "Доверительный интервал для среднего количества рекламы в группе «psa»: [24.213425925783053, 25.308849197495302]\n"
     ]
    }
   ],
   "source": [
    "def get_conversion_interval(success, total, alpha=0.05):\n",
    "  lower, upper = proportion_confint(success, total, alpha=alpha, method='normal')\n",
    "  return lower, upper\n",
    "\n",
    "df_site_groups['conversion_interval'] = df_site_groups.apply(\n",
    "  lambda row: get_conversion_interval(row['buyers_count'], row['users_count']), axis=1\n",
    ")\n",
    "\n",
    "conversion_diff = df_site_groups['conversion']['ad'] - df_site_groups['conversion']['psa']\n",
    "\n",
    "std_error = np.sqrt(\n",
    "  df_site_groups['conversion']['ad'] * (1 - df_site_groups['conversion']['ad']) / df_site_groups['users_count']['ad'] +\n",
    "  df_site_groups['conversion']['psa'] * (1 - df_site_groups['conversion']['psa']) / df_site_groups['users_count']['psa']\n",
    ")\n",
    "\n",
    "z_score = 1.96\n",
    "\n",
    "conversion_diff_interval = (\n",
    "  conversion_diff - z_score * std_error,\n",
    "  conversion_diff + z_score * std_error\n",
    ")\n",
    "\n",
    "def get_mean_interval(data, alpha=0.05):\n",
    "  mean = data.mean()\n",
    "  std_dev = data.std()\n",
    "  n = len(data)\n",
    "\n",
    "  std_error = std_dev / np.sqrt(n)\n",
    "  z_score = norm.ppf(1 - alpha / 2)\n",
    "  margin_of_error = z_score * std_error\n",
    "\n",
    "  return mean - margin_of_error, mean + margin_of_error\n",
    "\n",
    "ad_interval = get_mean_interval(df_ad_group)\n",
    "psa_interval = get_mean_interval(df_psa_group)\n",
    "\n",
    "print(f'Доверительные интервалы для конверсии в группе «ad»: {df_site_groups[\"conversion_interval\"]['ad']}')\n",
    "print(f'Доверительные интервалы для конверсии в группе «psa»: {df_site_groups[\"conversion_interval\"]['psa']}\\n')\n",
    "\n",
    "print(f'Доверительный интервал для разницы конверсий: {[ float(x) for x in conversion_diff_interval ]}\\n')\n",
    "\n",
    "print(f'Доверительный интервал для среднего количества рекламы группе «ad»: {[ float(x) for x in ad_interval ]}')\n",
    "print(f'Доверительный интервал для среднего количества рекламы в группе «psa»: {[ float(x) for x in psa_interval ]}')"
   ]
  },
  {
   "cell_type": "markdown",
   "metadata": {},
   "source": [
    "#### 4.2. Выводв к анализу доверительных интервалов\n",
    "- доверительные интервалы для конверсий не перекрываются, что показывает статистическую значимость различий между группами;\n",
    "- разница в конверсиях ```0.60%``` является значимой для бизнеса;\n",
    "- доверительные интервалы для среднего количества рекламы пересекаются, что показывает не значительную статистическое различие между группами."
   ]
  },
  {
   "cell_type": "markdown",
   "metadata": {},
   "source": [
    "### 5. Соответствие выводов бизнес-вопросам\n",
    "- присутствует статистически значимое различие в конверсии между группами: более высокая конверсия для группы «ad»;\n",
    "- различие в конверсии между группами не связано с количеством рекламы, что, как уже выше говорилось, логично, поскольку в даном исследовании задачей было сравнение не количества показов, а содержание объявлений. Из этого можно предположить, что пользователи видевшие рекламные объявления совершили большен покупок, чем те, кто видел объявления государственной службы."
   ]
  }
 ],
 "metadata": {
  "kernelspec": {
   "display_name": "baml_i_lab2",
   "language": "python",
   "name": "python3"
  },
  "language_info": {
   "codemirror_mode": {
    "name": "ipython",
    "version": 3
   },
   "file_extension": ".py",
   "mimetype": "text/x-python",
   "name": "python",
   "nbconvert_exporter": "python",
   "pygments_lexer": "ipython3",
   "version": "3.12.8"
  }
 },
 "nbformat": 4,
 "nbformat_minor": 2
}
